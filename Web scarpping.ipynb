{
 "cells": [
  {
   "cell_type": "code",
   "execution_count": 1,
   "metadata": {},
   "outputs": [],
   "source": [
    "from bs4 import BeautifulSoup as Soup"
   ]
  },
  {
   "cell_type": "code",
   "execution_count": 2,
   "metadata": {},
   "outputs": [],
   "source": [
    "from urllib.request import urlopen as uReg"
   ]
  },
  {
   "cell_type": "code",
   "execution_count": 3,
   "metadata": {},
   "outputs": [],
   "source": [
    "my_url = 'https://www.flipkart.com/search?q=redmi%20mobiles&otracker=search&otracker1=search&marketplace=FLIPKART&as-show=on&as=off'"
   ]
  },
  {
   "cell_type": "code",
   "execution_count": 4,
   "metadata": {},
   "outputs": [],
   "source": [
    "uClient  = uReg(my_url)"
   ]
  },
  {
   "cell_type": "code",
   "execution_count": 5,
   "metadata": {},
   "outputs": [],
   "source": [
    "page_html = uClient.read()"
   ]
  },
  {
   "cell_type": "code",
   "execution_count": 6,
   "metadata": {},
   "outputs": [],
   "source": [
    "uClient.close()"
   ]
  },
  {
   "cell_type": "code",
   "execution_count": 7,
   "metadata": {},
   "outputs": [],
   "source": [
    "page_soup = Soup(page_html, \"html.parser\")"
   ]
  },
  {
   "cell_type": "code",
   "execution_count": 49,
   "metadata": {},
   "outputs": [],
   "source": [
    "containers = page_soup.findAll(\"div\", {\"class\": \"_3O0U0u\"})"
   ]
  },
  {
   "cell_type": "code",
   "execution_count": 50,
   "metadata": {},
   "outputs": [
    {
     "name": "stdout",
     "output_type": "stream",
     "text": [
      "24\n"
     ]
    }
   ],
   "source": [
    "print(len(containers))"
   ]
  },
  {
   "cell_type": "code",
   "execution_count": 51,
   "metadata": {},
   "outputs": [
    {
     "name": "stdout",
     "output_type": "stream",
     "text": [
      "<div class=\"_3O0U0u\">\n",
      " <div data-id=\"MOBFDXZ36Y4DJBGM\" style=\"width:100%\">\n",
      "  <div class=\"_1UoZlX\">\n",
      "   <a class=\"_31qSD5\" href=\"/redmi-note-7-pro-space-black-64-gb/p/itmfegkx2gufuzhp?pid=MOBFDXZ36Y4DJBGM&amp;srno=s_1_1&amp;otracker=search&amp;otracker1=search&amp;lid=LSTMOBFDXZ36Y4DJBGMQF27GZ&amp;fm=organic&amp;iid=3db88628-f94c-4334-a01f-baaab1ec740e.MOBFDXZ36Y4DJBGM.SEARCH&amp;qH=d04eee4f5c766ff4\" rel=\"noopener noreferrer\" target=\"_blank\">\n",
      "    <div class=\"_3RW86r\">\n",
      "     ON OFFER\n",
      "    </div>\n",
      "    <div class=\"_3SQWE6\">\n",
      "     <div class=\"_1OCn9C\">\n",
      "      <div>\n",
      "       <div class=\"_3BTv9X\" style=\"height:200px;width:200px\">\n",
      "        <img alt=\"Redmi Note 7 Pro (Space Black, 64 GB)\" class=\"_1Nyybr\" src=\"//img1a.flixcart.com/www/linchpin/fk-cp-zion/img/placeholder_9951d0.svg\"/>\n",
      "       </div>\n",
      "      </div>\n",
      "      <div class=\"_3aV9Tq\">\n",
      "       <span class=\"rIHMVr\">\n",
      "        Coming Soon\n",
      "       </span>\n",
      "      </div>\n",
      "     </div>\n",
      "     <div class=\"_2lesQu\">\n",
      "      <div class=\"_1O_CiZ\">\n",
      "       <span class=\"_1iHA1p\">\n",
      "        <div class=\"_2kFyHg\">\n",
      "         <label>\n",
      "          <input class=\"_3uUUD5\" readonly=\"\" type=\"checkbox\"/>\n",
      "          <div class=\"_1p7h2j\">\n",
      "          </div>\n",
      "         </label>\n",
      "        </div>\n",
      "       </span>\n",
      "       <label class=\"_10TB-Q\">\n",
      "        <span>\n",
      "         Add to Compare\n",
      "        </span>\n",
      "       </label>\n",
      "      </div>\n",
      "     </div>\n",
      "     <div class=\"_3gDSOa _32A6AP\">\n",
      "      <div class=\"DsQ2eg\">\n",
      "       <svg class=\"_2oLiqr\" height=\"16\" viewbox=\"0 0 20 16\" width=\"16\" xmlns=\"http://www.w3.org/2000/svg\">\n",
      "        <path class=\"_35Y7Yo\" d=\"M8.695 16.682C4.06 12.382 1 9.536 1 6.065 1 3.219 3.178 1 5.95 1c1.566 0 3.069.746 4.05 1.915C10.981 1.745 12.484 1 14.05 1 16.822 1 19 3.22 19 6.065c0 3.471-3.06 6.316-7.695 10.617L10 17.897l-1.305-1.215z\" fill=\"#2874F0\" fill-rule=\"evenodd\" opacity=\".9\" stroke=\"#FFF\">\n",
      "        </path>\n",
      "       </svg>\n",
      "      </div>\n",
      "     </div>\n",
      "    </div>\n",
      "    <div class=\"_1-2Iqu row\">\n",
      "     <div class=\"col col-7-12\">\n",
      "      <div class=\"_3wU53n\">\n",
      "       Redmi Note 7 Pro (Space Black, 64 GB)\n",
      "      </div>\n",
      "      <div class=\"niH0FQ\">\n",
      "       <span class=\"_2_KrJI\" id=\"productRating_LSTMOBFDXZ36Y4DJBGMQF27GZ_MOBFDXZ36Y4DJBGM_\">\n",
      "        <div class=\"hGSR34\">\n",
      "         4.6\n",
      "         <img class=\"_2lQ_WZ\" src=\"data:image/svg+xml;base64,PHN2ZyB4bWxucz0iaHR0cDovL3d3dy53My5vcmcvMjAwMC9zdmciIHdpZHRoPSIxMyIgaGVpZ2h0PSIxMiI+PHBhdGggZmlsbD0iI0ZGRiIgZD0iTTYuNSA5LjQzOWwtMy42NzQgMi4yMy45NC00LjI2LTMuMjEtMi44ODMgNC4yNTQtLjQwNEw2LjUuMTEybDEuNjkgNC4wMSA0LjI1NC40MDQtMy4yMSAyLjg4Mi45NCA0LjI2eiIvPjwvc3ZnPg==\"/>\n",
      "        </div>\n",
      "       </span>\n",
      "       <span class=\"_38sUEc\">\n",
      "        <span>\n",
      "         <span>\n",
      "          1,30,885 Ratings\n",
      "         </span>\n",
      "         <span class=\"_1VpSqZ\">\n",
      "          &amp;\n",
      "         </span>\n",
      "         <span>\n",
      "          13,779 Reviews\n",
      "         </span>\n",
      "        </span>\n",
      "       </span>\n",
      "      </div>\n",
      "      <div class=\"_3ULzGw\">\n",
      "       <ul class=\"vFw0gD\">\n",
      "        <li class=\"tVe95H\">\n",
      "         4 GB RAM | 64 GB ROM | Expandable Upto 256 GB\n",
      "        </li>\n",
      "        <li class=\"tVe95H\">\n",
      "         16.0 cm (6.3 inch) FHD+ Display\n",
      "        </li>\n",
      "        <li class=\"tVe95H\">\n",
      "         48MP + 5MP | 13MP Front Camera\n",
      "        </li>\n",
      "        <li class=\"tVe95H\">\n",
      "         4000 mAh Li-polymer Battery\n",
      "        </li>\n",
      "        <li class=\"tVe95H\">\n",
      "         Qualcomm Snapdragon 675 Processor\n",
      "        </li>\n",
      "        <li class=\"tVe95H\">\n",
      "         Quick Charge 4.0 Support\n",
      "        </li>\n",
      "        <li class=\"tVe95H\">\n",
      "         Splash Proof - Protected by P2i\n",
      "        </li>\n",
      "        <li class=\"tVe95H\">\n",
      "         Brand Warranty of 1 Year Available for Mobile and 6 Months for Accessories\n",
      "        </li>\n",
      "       </ul>\n",
      "      </div>\n",
      "     </div>\n",
      "     <div class=\"col col-5-12 _2o7WAb\">\n",
      "      <div class=\"_6BWGkk\">\n",
      "       <div class=\"_1uv9Cb\">\n",
      "        <div class=\"_1vC4OE _2rQ-NK\">\n",
      "         ₹13,999\n",
      "        </div>\n",
      "        <div class=\"_3auQ3N _2GcJzG\">\n",
      "         ₹\n",
      "         <!-- -->\n",
      "         15,999\n",
      "        </div>\n",
      "        <div class=\"VGWI6T\">\n",
      "         <span>\n",
      "          12% off\n",
      "         </span>\n",
      "        </div>\n",
      "       </div>\n",
      "      </div>\n",
      "      <div class=\"_3n6o0t\">\n",
      "       <img height=\"21\" src=\"//img1a.flixcart.com/www/linchpin/fk-cp-zion/img/fa_8b4b59.png\"/>\n",
      "      </div>\n",
      "      <div class=\"_3gVem9\">\n",
      "       <span>\n",
      "        Up to\n",
      "        <span class=\"_2xjzPG\">\n",
      "         ₹13,750\n",
      "        </span>\n",
      "        Off on Exchange\n",
      "       </span>\n",
      "      </div>\n",
      "      <div class=\"_3MCpsc\">\n",
      "       EMI starting from\n",
      "       <span class=\"_1JT2XE\">\n",
      "        ₹\n",
      "        <!-- -->\n",
      "        465\n",
      "        <!-- -->\n",
      "        /month\n",
      "       </span>\n",
      "      </div>\n",
      "      <div class=\"OPF9v4 _2WQngC\">\n",
      "       <span class=\"_1xZuAn\">\n",
      "        Offers\n",
      "       </span>\n",
      "       <ul class=\"_3U7997\">\n",
      "        <li class=\"_1ZRRx1\">\n",
      "         Special Price\n",
      "        </li>\n",
      "        <li class=\"_1ZRRx1\">\n",
      "         Bank Offer\n",
      "        </li>\n",
      "       </ul>\n",
      "      </div>\n",
      "     </div>\n",
      "    </div>\n",
      "   </a>\n",
      "  </div>\n",
      " </div>\n",
      "</div>\n"
     ]
    }
   ],
   "source": [
    "print(Soup.prettify(containers[0]))"
   ]
  },
  {
   "cell_type": "code",
   "execution_count": 22,
   "metadata": {},
   "outputs": [],
   "source": [
    "container = containers[0]"
   ]
  },
  {
   "cell_type": "code",
   "execution_count": 23,
   "metadata": {},
   "outputs": [
    {
     "name": "stdout",
     "output_type": "stream",
     "text": [
      "Redmi Note 7 Pro (Space Black, 64 GB)\n"
     ]
    }
   ],
   "source": [
    "print(container.div.img[\"alt\"])"
   ]
  },
  {
   "cell_type": "code",
   "execution_count": 24,
   "metadata": {},
   "outputs": [],
   "source": [
    "price = container.findAll(\"div\", {\"class\": \"col col-5-12 _2o7WAb\"})"
   ]
  },
  {
   "cell_type": "code",
   "execution_count": 27,
   "metadata": {},
   "outputs": [
    {
     "name": "stdout",
     "output_type": "stream",
     "text": [
      "₹13,999₹15,99912% offUp to ₹13,750 Off on ExchangeEMI starting from ₹465/monthOffersSpecial PriceBank Offer\n"
     ]
    }
   ],
   "source": [
    "print(price[0].text)"
   ]
  },
  {
   "cell_type": "code",
   "execution_count": 28,
   "metadata": {},
   "outputs": [],
   "source": [
    "rating = container.findAll(\"div\", {\"class\": \"niH0FQ\"})"
   ]
  },
  {
   "cell_type": "code",
   "execution_count": 29,
   "metadata": {},
   "outputs": [
    {
     "name": "stdout",
     "output_type": "stream",
     "text": [
      "4.61,30,885 Ratings & 13,779 Reviews\n"
     ]
    }
   ],
   "source": [
    "print(rating[0].text)"
   ]
  },
  {
   "cell_type": "code",
   "execution_count": 30,
   "metadata": {},
   "outputs": [],
   "source": [
    "filename = \"product.csv\""
   ]
  },
  {
   "cell_type": "code",
   "execution_count": 31,
   "metadata": {},
   "outputs": [],
   "source": [
    "f = open(filename, 'w')"
   ]
  },
  {
   "cell_type": "code",
   "execution_count": 32,
   "metadata": {},
   "outputs": [
    {
     "data": {
      "text/plain": [
       "29"
      ]
     },
     "execution_count": 32,
     "metadata": {},
     "output_type": "execute_result"
    }
   ],
   "source": [
    "headers = \"Product_name, Price, Ratings\\n\"\n",
    "f.write(headers)"
   ]
  },
  {
   "cell_type": "code",
   "execution_count": 35,
   "metadata": {},
   "outputs": [],
   "source": [
    "for container in containers:\n",
    "    product_name = container.div.img[\"alt\"]\n",
    "    price_container = container.findAll(\"div\", {\"class\": \"col col-5-12 _2o7WAb\"})\n",
    "    price = price_container[0].text.strip()\n",
    "    \n",
    "    rating_container = container.findAll(\"div\", {\"class\": \"niH0FQ\"})\n",
    "    rating = rating_container[0].text"
   ]
  },
  {
   "cell_type": "code",
   "execution_count": 37,
   "metadata": {},
   "outputs": [
    {
     "name": "stdout",
     "output_type": "stream",
     "text": [
      "Product_name:Redmi Note 7 Pro (Nebula Red, 128 GB)\n",
      "Price:₹16,999₹17,9995% offUp to ₹15,850 Off on ExchangeEMI starting from ₹565/monthOffersSpecial PriceBank Offer\n",
      "Ratings:4.621,095 Ratings & 2,333 Reviews\n"
     ]
    }
   ],
   "source": [
    "print(\"Product_name:\" + product_name)\n",
    "print(\"Price:\" + price)\n",
    "print(\"Ratings:\" + rating)"
   ]
  },
  {
   "cell_type": "code",
   "execution_count": 39,
   "metadata": {},
   "outputs": [],
   "source": [
    "#srting parsing\n",
    "trim_price = ''.join(price.split(','))\n",
    "rm_ruppee = trim_price.split('₹')\n",
    "add_rs_price = \"Rs.\" + rm_ruppee[1]\n",
    "split_price = add_rs_price.split('E')\n",
    "final_price = split_price[0]\n",
    "split_rating = rating.split(\" \")\n",
    "final_rating = split_rating[0]"
   ]
  },
  {
   "cell_type": "code",
   "execution_count": 41,
   "metadata": {},
   "outputs": [
    {
     "name": "stdout",
     "output_type": "stream",
     "text": [
      "Redmi Note 7 Pro (Nebula Red| 128 GB),Rs.16999,4.621,095\n",
      "\n"
     ]
    },
    {
     "data": {
      "text/plain": [
       "57"
      ]
     },
     "execution_count": 41,
     "metadata": {},
     "output_type": "execute_result"
    }
   ],
   "source": [
    "print(product_name.replace(\",\",\"|\") + \",\" + final_price + \",\" + final_rating + \"\\n\")\n",
    "f.write(product_name.replace(\",\",\"|\") + \",\" + final_price + \",\" + final_rating + \"\\n\")"
   ]
  },
  {
   "cell_type": "code",
   "execution_count": 42,
   "metadata": {},
   "outputs": [],
   "source": [
    "f.close()"
   ]
  },
  {
   "cell_type": "code",
   "execution_count": null,
   "metadata": {},
   "outputs": [],
   "source": []
  }
 ],
 "metadata": {
  "kernelspec": {
   "display_name": "Python 3",
   "language": "python",
   "name": "python3"
  },
  "language_info": {
   "codemirror_mode": {
    "name": "ipython",
    "version": 3
   },
   "file_extension": ".py",
   "mimetype": "text/x-python",
   "name": "python",
   "nbconvert_exporter": "python",
   "pygments_lexer": "ipython3",
   "version": "3.7.1"
  }
 },
 "nbformat": 4,
 "nbformat_minor": 2
}
